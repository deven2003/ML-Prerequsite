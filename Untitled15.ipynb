{
  "nbformat": 4,
  "nbformat_minor": 0,
  "metadata": {
    "colab": {
      "provenance": [],
      "authorship_tag": "ABX9TyPPLGg9THhK+oNAL7G0c9tf",
      "include_colab_link": true
    },
    "kernelspec": {
      "name": "python3",
      "display_name": "Python 3"
    },
    "language_info": {
      "name": "python"
    }
  },
  "cells": [
    {
      "cell_type": "markdown",
      "metadata": {
        "id": "view-in-github",
        "colab_type": "text"
      },
      "source": [
        "<a href=\"https://colab.research.google.com/github/deven2003/ML-Prerequsite/blob/main/Untitled15.ipynb\" target=\"_parent\"><img src=\"https://colab.research.google.com/assets/colab-badge.svg\" alt=\"Open In Colab\"/></a>"
      ]
    },
    {
      "cell_type": "markdown",
      "source": [
        "Q1. In the first matrix, there are n rows and k columns while in the second matrix has k rows and m columns. As per the matrix multiplication principle, in the first matrix first row will be multiplied with the first column of the secon matrix. All the elements are multiplied simulatenously. As per the question, there would be k multiplications and k-1 additions because all the k simultaneous products are added which involves k-1 times addition. This process is repeated with the same row and second column. Similarly it is done till mth column which gives km multiplication and (k-1)m addition. The whole process is then repeated for n rows one by which results in total **kmn multiplication and (k-1)mn addition**.\n"
      ],
      "metadata": {
        "id": "ek_cMt8zM7ez"
      }
    },
    {
      "cell_type": "markdown",
      "source": [
        "Q2."
      ],
      "metadata": {
        "id": "xXiUnHtcM-UA"
      }
    },
    {
      "cell_type": "code",
      "source": [
        "import numpy as np\n",
        "import time\n",
        "def matrix_multi(a,b):\n",
        "#inputs would be matrix in form of lists of list, below are the values extracted of no. of rows and columns of a and b matrix\n",
        "  n=len(a)\n",
        "  k=len(a[0])\n",
        "  m=len(b[0])\n",
        "#initialising matrix of n*m order by 0s to store the multiplication results\n",
        "  ans=[]\n",
        "  for i in range(n):\n",
        "    row=[0]*m\n",
        "    ans.append(row)\n",
        "#using the approach as explained above\n",
        "  for p in range(n):\n",
        "    for q in range(m):\n",
        "      for r in range(k):\n",
        "        ans[p][q]=ans[p][q]+(a[p][r]*b[r][q])\n",
        "  return ans\n",
        "def matrix_np(a,b):\n",
        "  ans=np.dot(a,b)\n",
        "  return ans\n",
        "#comparing both the results for correctness with example\n",
        "a = np.random.randint(1, 100, (50,100) )\n",
        "b = np.random.randint(1, 100, (100,50))\n",
        "\n",
        "al=a.tolist()\n",
        "bl=b.tolist()\n",
        "ans1=matrix_multi(al,bl)\n",
        "ans2=matrix_np(a,b)\n",
        "print(ans1==ans2)\n",
        "#comparing time\n",
        "#with general approach\n",
        "start_multi=time.time()\n",
        "c1=matrix_multi(al,bl)\n",
        "end_multi=time.time()\n",
        "final_multi=end_multi-start_multi\n",
        "#with numpy\n",
        "start_multi_np=time.time()\n",
        "c2=matrix_np(a,b)\n",
        "end_multi_np=time.time()\n",
        "final_multi_numpy=end_multi_np-start_multi_np\n",
        "print(final_multi,final_multi_numpy)\n",
        "print(final_multi>final_multi_numpy)\n"
      ],
      "metadata": {
        "colab": {
          "base_uri": "https://localhost:8080/"
        },
        "id": "o6RaBROdNBae",
        "outputId": "1cc8dffc-06bd-492a-bb23-cb8950c1b7d5"
      },
      "execution_count": 1,
      "outputs": [
        {
          "output_type": "stream",
          "name": "stdout",
          "text": [
            "[[ True  True  True ...  True  True  True]\n",
            " [ True  True  True ...  True  True  True]\n",
            " [ True  True  True ...  True  True  True]\n",
            " ...\n",
            " [ True  True  True ...  True  True  True]\n",
            " [ True  True  True ...  True  True  True]\n",
            " [ True  True  True ...  True  True  True]]\n",
            "0.10533618927001953 0.0007605552673339844\n",
            "True\n"
          ]
        }
      ]
    },
    {
      "cell_type": "markdown",
      "source": [
        "The numpy approach works better than the traditional approach. It consumes less time for the same operation. Numpy is implemented in **C** which is a low level language. It uses optimized algorithms. Numpy uses parallelism which can also help in reducing the time. This difference of time between approaches is significantly observed for large arrays."
      ],
      "metadata": {
        "id": "Sm14xQw3ND2x"
      }
    },
    {
      "cell_type": "markdown",
      "source": [
        "Q3. To find the median we would traverse the array n/2 times. So n elements would be traversed nearly n/2 times(depending on odd and even n). Therefore time complexity will be $O(n^2)$ by this approach. The other method could be to sort the array and then get the median. Here sorting would require O(nlogn) as time complexity and then we can get the median. Both the approaches are coded below"
      ],
      "metadata": {
        "id": "-IxHUIEbNIPt"
      }
    },
    {
      "cell_type": "code",
      "source": [],
      "metadata": {
        "id": "sPjHXSUHNM5Y"
      },
      "execution_count": null,
      "outputs": []
    },
    {
      "cell_type": "code",
      "source": [
        "import time\n",
        "import numpy as np\n",
        "def median_pass(a):\n",
        "  n=len(a)\n",
        "  n1=n\n",
        "  max1=float('-inf')\n",
        "  max2=float('-inf')\n",
        "  adrs=0\n",
        "  if(n%2==0):\n",
        "    for i in range((n+2)//2):\n",
        "      max2=max1\n",
        "      max1=float('-inf')\n",
        "      for j in range(n1):\n",
        "        if(max1>=a[j]):\n",
        "          max1=max1\n",
        "        else:\n",
        "          max1=a[j]\n",
        "          adrs=j\n",
        "      if(adrs<len(a)):\n",
        "        a.pop(adrs)\n",
        "      n1=n1-1\n",
        "  else:\n",
        "    for i in range((n+1)//2):\n",
        "      max1=float('-inf')\n",
        "      for j in range(n1):\n",
        "         if(max1>=a[j]):\n",
        "          max1=max1\n",
        "         else:\n",
        "          max1=a[j]\n",
        "          adrs=j\n",
        "      if(adrs<len(a)):#to ensure the list does not go out of index\n",
        "        a.pop(adrs)#removing the max elements from the list till we reach median\n",
        "      n1=n1-1\n",
        "  if(n%2==0):\n",
        "    return ((max1+max2)/2)\n",
        "  else:\n",
        "    return max1\n",
        "\n",
        "\n",
        "def median_sort(a):\n",
        "    sorted_arr=sorted(a)\n",
        "    n=len(sorted_arr)\n",
        "\n",
        "    if n%2==0:\n",
        "        max1=sorted_arr[n//2-1]\n",
        "        max2=sorted_arr[n//2]\n",
        "        median=(max1+max2)/2\n",
        "    else:\n",
        "        median=sorted_arr[n//2]\n",
        "    return median\n",
        "\n",
        "a = np.random.randint(1, 100, 5000)\n",
        "a1=a.tolist()\n",
        "#checking for correctness\n",
        "print(median_pass(a1)==median_sort(a)==np.median(a))\n",
        "\n",
        "start=time.time()\n",
        "med1=median_pass(a1)\n",
        "end=time.time()\n",
        "t1=end-start\n",
        "\n",
        "start1=time.time()\n",
        "med2=median_sort(a1)\n",
        "end1=time.time()\n",
        "t2=end1-start1\n",
        "\n",
        "start2=time.time()\n",
        "med3=np.median(a1)\n",
        "end2=time.time()\n",
        "t3=end2-start2\n",
        "\n",
        "\n",
        "print(t1,t2,t3)\n",
        "\n"
      ],
      "metadata": {
        "colab": {
          "base_uri": "https://localhost:8080/"
        },
        "id": "K2Tsgd2VJryv",
        "outputId": "66ebbef7-dc51-48c2-c07b-d93287bed8fe"
      },
      "execution_count": 2,
      "outputs": [
        {
          "output_type": "stream",
          "name": "stdout",
          "text": [
            "True\n",
            "0.19195294380187988 0.0002377033233642578 0.00036835670471191406\n"
          ]
        }
      ]
    }
  ]
}