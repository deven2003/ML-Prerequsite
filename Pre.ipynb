{
 "cells": [
  {
   "cell_type": "markdown",
   "metadata": {
    "id": "PCy57G-oRRmr"
   },
   "source": [
    "Q1. In the first matrix, there are n rows and k columns while in the second matrix has k rows and m columns. As per the matrix multiplication principle, in the first matrix first row will be multiplied with the first column of the secon matrix. All the elements are multiplied simulatenously. As per the question, there would be k multiplications and k-1 additions because all the k simultaneous products are added which involves k-1 times addition. This process is repeated with the same row and second column. Similarly it is done till mth column which gives km multiplication and (k-1)m addition. The whole process is then repeated for n rows one by which results in total **kmn multiplication and (k-1)mn addition**.\n"
   ]
  },
  {
   "cell_type": "markdown",
   "metadata": {
    "id": "wzhO57tpW0uz"
   },
   "source": [
    "Q2."
   ]
  },
  {
   "cell_type": "code",
   "execution_count": 37,
   "metadata": {
    "colab": {
     "base_uri": "https://localhost:8080/"
    },
    "id": "LzGwSWMrRSFZ",
    "outputId": "d2314364-6b10-42c2-e64e-e16f16ca7ee5"
   },
   "outputs": [
    {
     "name": "stdout",
     "output_type": "stream",
     "text": [
      "[[ True  True  True ...  True  True  True]\n",
      " [ True  True  True ...  True  True  True]\n",
      " [ True  True  True ...  True  True  True]\n",
      " ...\n",
      " [ True  True  True ...  True  True  True]\n",
      " [ True  True  True ...  True  True  True]\n",
      " [ True  True  True ...  True  True  True]]\n",
      "0.03078937530517578 0.00026869773864746094\n",
      "True\n"
     ]
    }
   ],
   "source": [
    "import numpy as np\n",
    "import time\n",
    "def matrix_multi(a,b):\n",
    "#inputs would be matrix in form of lists of list, below are the values extracted of no. of rows and columns of a and b matrix\n",
    "  n=len(a)\n",
    "  k=len(a[0])\n",
    "  m=len(b[0])\n",
    "#initialising matrix of n*m order by 0s to store the multiplication results\n",
    "  ans=[]\n",
    "  for i in range(n):\n",
    "    row=[0]*m\n",
    "    ans.append(row)\n",
    "#using the approach as explained above\n",
    "  for p in range(n):\n",
    "    for q in range(m):\n",
    "      for r in range(k):\n",
    "        ans[p][q]=ans[p][q]+(a[p][r]*b[r][q])\n",
    "  return ans\n",
    "def matrix_np(a,b):\n",
    "  ans=np.dot(a,b)\n",
    "  return ans\n",
    "#comparing both the results for correctness with example\n",
    "a = np.random.randint(1, 100, (50,100) )\n",
    "b = np.random.randint(1, 100, (100,50))\n",
    "\n",
    "al=a.tolist()\n",
    "bl=b.tolist()\n",
    "ans1=matrix_multi(al,bl)\n",
    "ans2=matrix_np(a,b)\n",
    "print(ans1==ans2)\n",
    "#comparing time\n",
    "#with general approach\n",
    "start_multi=time.time()\n",
    "c1=matrix_multi(al,bl)\n",
    "end_multi=time.time()\n",
    "final_multi=end_multi-start_multi\n",
    "#with numpy\n",
    "start_multi_np=time.time()\n",
    "c2=matrix_np(a,b)\n",
    "end_multi_np=time.time()\n",
    "final_multi_numpy=end_multi_np-start_multi_np\n",
    "print(final_multi,final_multi_numpy)\n",
    "print(final_multi>final_multi_numpy)\n"
   ]
  },
  {
   "cell_type": "markdown",
   "metadata": {
    "id": "oyOfcmOCtewW"
   },
   "source": [
    "The numpy approach works better than the traditional approach. It consumes less time for the same operation. Numpy is implemented in **C** which is a low level language. It uses optimized algorithms. Numpy uses parallelism which can also help in reducing the time. This difference of time between approaches is significantly observed for large arrays."
   ]
  },
  {
   "cell_type": "markdown",
   "metadata": {
    "id": "txOqr-B6wcSx"
   },
   "source": [
    "Q3. To find the median we would traverse the array n/2 times. So n elements would be traversed nearly n/2 times(depending on odd and even n). Therefore time complexity will be $O(n^2)$ by this approach. The other method could be to sort the array and then get the median. Here sorting would require O(nlogn) as time complexity and then we can get the median. Both the approaches are coded below"
   ]
  },
  {
   "cell_type": "code",
   "execution_count": 38,
   "metadata": {
    "colab": {
     "base_uri": "https://localhost:8080/"
    },
    "id": "MwsGSosowaEp",
    "outputId": "30601a44-b15a-4db8-da32-a4215ba1abdc"
   },
   "outputs": [
    {
     "name": "stdout",
     "output_type": "stream",
     "text": [
      "True\n",
      "10.139699697494507 0.0010466575622558594 0.0011501312255859375\n"
     ]
    }
   ],
   "source": [
    "import time\n",
    "import numpy as np\n",
    "def median_pass(a):\n",
    "  n=len(a)\n",
    "  n1=n\n",
    "  max1=float('-inf')\n",
    "  max2=float('-inf')\n",
    "  adrs=0\n",
    "  if(n%2==0):\n",
    "    for i in range((n+2)//2):\n",
    "      max2=max1\n",
    "      max1=float('-inf')\n",
    "      for j in range(n1):\n",
    "        if(max1>=a[j]):\n",
    "          max1=max1\n",
    "        else:\n",
    "          max1=a[j]\n",
    "          adrs=j\n",
    "      if(adrs<len(a)):\n",
    "        a.pop(adrs)\n",
    "      n1=n1-1\n",
    "  else:\n",
    "    for i in range((n+1)//2):\n",
    "      max1=float('-inf')\n",
    "      for j in range(n1):\n",
    "         if(max1>=a[j]):\n",
    "          max1=max1\n",
    "         else:\n",
    "          max1=a[j]\n",
    "          adrs=j\n",
    "      if(adrs<len(a)):#to ensure the list does not go out of index\n",
    "        a.pop(adrs)#removing the max elements from the list till we reach median\n",
    "      n1=n1-1\n",
    "  if(n%2==0):\n",
    "    return ((max1+max2)/2)\n",
    "  else:\n",
    "    return max1\n",
    "\n",
    "\n",
    "def median_sort(a):\n",
    "    sorted_arr=sorted(a)\n",
    "    n=len(sorted_arr)\n",
    "\n",
    "    if n%2==0:\n",
    "        max1=sorted_arr[n//2-1]\n",
    "        max2=sorted_arr[n//2]\n",
    "        median=(max1+max2)/2\n",
    "    else:\n",
    "        median=sorted_arr[n//2]\n",
    "    return median\n",
    "\n",
    "\n",
    "a = np.random.randint(1, 100, 50000)\n",
    "a1=a.tolist()\n",
    "#checking for correctness\n",
    "print(median_pass(a1)==median_sort(a)==np.median(a))\n",
    "\n",
    "start=time.time()\n",
    "med1=median_pass(a1)\n",
    "end=time.time()\n",
    "t1=end-start\n",
    "\n",
    "start1=time.time()\n",
    "med2=median_sort(a1)\n",
    "end1=time.time()\n",
    "t2=end1-start1\n",
    "\n",
    "start2=time.time()\n",
    "med3=np.median(a1)\n",
    "end2=time.time()\n",
    "t3=end2-start2\n",
    "\n",
    "\n",
    "print(t1,t2,t3)"
   ]
  },
  {
   "cell_type": "markdown",
   "metadata": {
    "id": "5GJ_u9AXcbkd"
   },
   "source": [
    "The true indicates that all approach give correct median. After getting the results, we could see sorted approach is slightly better than numpy approach and the traditional approach takes significantly higher time."
   ]
  },
  {
   "cell_type": "markdown",
   "metadata": {
    "id": "yTGnDtnJiWKl"
   },
   "source": [
    "Q4. $f(x,y)=x^2y+y^3sin(x)$\n",
    "\n",
    "gradient wrt x\n",
    "\n",
    "δf(x,y)/δ(x)=2xy+$y^3cos(x)$\n",
    "\n",
    "gradient wrt y\n",
    "\n",
    "δf(x,y)/δ(y)=$x^2$ +$3y^2sin(x)$\n",
    "\n",
    "\n",
    "\n",
    "\n",
    "\n"
   ]
  },
  {
   "cell_type": "markdown",
   "metadata": {
    "id": "w0FcmKUhcQUL"
   },
   "source": [
    "Q5."
   ]
  },
  {
   "cell_type": "code",
   "execution_count": 39,
   "metadata": {
    "colab": {
     "base_uri": "https://localhost:8080/"
    },
    "id": "VZNNS21Rats5",
    "outputId": "8a801029-0052-4671-b331-2d1ab5bf481c"
   },
   "outputs": [
    {
     "name": "stdout",
     "output_type": "stream",
     "text": [
      "Input (x, y): 3.0 4.0\n",
      "Gradient: (Array(-39.35952, dtype=float32, weak_type=True), Array(15.77376, dtype=float32, weak_type=True))\n",
      "Gradient from function: -39.35952 , 15.77376\n"
     ]
    }
   ],
   "source": [
    "import jax\n",
    "import jax.numpy as jnp\n",
    "import numpy as np\n",
    "\n",
    "def my_function(x, y):\n",
    "    return ((x**2)*y)+((y**3)*(jnp.sin(x)))\n",
    "\n",
    "def wrtx(x,y):\n",
    "    return ((2*x*y))+((y**3)*(jnp.cos(x)))\n",
    "\n",
    "def wrty(x,y):\n",
    "    return ((x*x))+(3*y*y*(jnp.sin(x)))\n",
    "\n",
    "gradient_fn = jax.grad(my_function, argnums=(0, 1))\n",
    "\n",
    "x=jnp.array(3.0)#integers are not considered as input, therefore float\n",
    "y=jnp.array(4.0)\n",
    "gradient_at_point =gradient_fn(x,y)\n",
    "\n",
    "print(\"Input (x, y):\",x,y)\n",
    "#By JAX\n",
    "print(\"Gradient:\",gradient_at_point)\n",
    "#By function\n",
    "print(\"Gradient from function:\",wrtx(x,y),',',wrty(x,y))"
   ]
  },
  {
   "cell_type": "markdown",
   "metadata": {
    "id": "mGzkbKlbfrwt"
   },
   "source": [
    "The x,y component values comes out to be same with both the approaches."
   ]
  },
  {
   "cell_type": "markdown",
   "metadata": {
    "id": "Ad9gTVAMiUDt"
   },
   "source": [
    "Q6."
   ]
  },
  {
   "cell_type": "code",
   "execution_count": 40,
   "metadata": {
    "colab": {
     "base_uri": "https://localhost:8080/"
    },
    "id": "nUk5E6tQgAMw",
    "outputId": "07b9ebd7-2076-4013-8a20-585fe303b1a0"
   },
   "outputs": [
    {
     "name": "stdout",
     "output_type": "stream",
     "text": [
      "[2*x*y + y**3*cos(x), x**2 + 3*y**2*sin(x)]\n"
     ]
    }
   ],
   "source": [
    "import sympy as sp\n",
    "x,y=sp.symbols('x y')\n",
    "f=((x**2)*y)+((y**3)*(sp.sin(x)))\n",
    "gradient=[sp.diff(f,var) for var in (x,y)]\n",
    "print(gradient)"
   ]
  },
  {
   "cell_type": "markdown",
   "metadata": {
    "id": "eTK9dAaSVNQv"
   },
   "source": [
    "We get similar gradient from sympy, the functions come out to be same as defined in Q4. Therefore gradient is now verified from both sympy and jax"
   ]
  },
  {
   "cell_type": "markdown",
   "metadata": {
    "id": "2sKYpIZjVxW7"
   },
   "source": [
    "Q7."
   ]
  },
  {
   "cell_type": "code",
   "execution_count": 41,
   "metadata": {
    "colab": {
     "base_uri": "https://localhost:8080/"
    },
    "id": "rxYIiXsSVwVE",
    "outputId": "1c764289-cd9a-4353-e83d-01063b150378"
   },
   "outputs": [
    {
     "name": "stdout",
     "output_type": "stream",
     "text": [
      "{'1. 2022': {'Branch 1': {'Roll Number': 21110053, 'Name': 'Deven', 'Marks': {'Maths': 80, 'English': 70}}, 'Branch 2': None}, '2. 2023': {'Branch 1': None, 'Branch 2': None}, '3. 2024': {'Branch 1': None, 'Branch 2': None}, '4. 2025': {'Branch 1': None, 'Branch 2': None}}\n"
     ]
    }
   ],
   "source": [
    "marks={\n",
    "    '1. 2022': {\n",
    "        'Branch 1': {\n",
    "            'Roll Number':21110053,'Name':'Deven','Marks':{\n",
    "                'Maths':80,'English':70\n",
    "            }\n",
    "        }\n",
    "        ,'Branch 2': None\n",
    "    }\n",
    "    ,'2. 2023':{\n",
    "        'Branch 1':None,'Branch 2':None\n",
    "    }\n",
    "    ,'3. 2024':{\n",
    "        'Branch 1':None,'Branch 2':None\n",
    "    }\n",
    "    ,'4. 2025':{\n",
    "        'Branch 1':None,'Branch 2':None\n",
    "    }\n",
    "}\n",
    "print(marks)"
   ]
  },
  {
   "cell_type": "markdown",
   "metadata": {
    "id": "3Y3qTpszYdXz"
   },
   "source": [
    "Nested dictionary could be made as written above. I have assigned values none to avoid repetition of data."
   ]
  },
  {
   "cell_type": "markdown",
   "metadata": {
    "id": "ou-asLMHYwLM"
   },
   "source": [
    "Q8"
   ]
  },
  {
   "cell_type": "code",
   "execution_count": 42,
   "metadata": {
    "colab": {
     "base_uri": "https://localhost:8080/"
    },
    "id": "3oOz80heZao6",
    "outputId": "ded223d4-c8b5-4138-a090-e4968198e1bf"
   },
   "outputs": [
    {
     "name": "stdout",
     "output_type": "stream",
     "text": [
      "Year:[<__main__.year object at 0x7c5517f46ce0>, <__main__.year object at 0x7c5517f46cb0>]\n",
      "Year:2021,branch:Branch Name:Computer Science,Student:Name:Deven,Rollno:21110053,Marks:English:80, Maths:90\n",
      "Branch Name:Computer Science,Student:Name:Deven,Rollno:21110053,Marks:English:80, Maths:90\n",
      "Name:Deven,Rollno:21110053,Marks:English:80, Maths:90\n"
     ]
    }
   ],
   "source": [
    "class marks:\n",
    "  def __init__(self,english,maths):\n",
    "    self.english=english\n",
    "    self.maths=maths\n",
    "  def __str__(self):\n",
    "    return f\"English:{self.english}, Maths:{self.maths}\"\n",
    "\n",
    "class student:\n",
    "  def __init__(self,name,rollno,marks):\n",
    "    self.name=name\n",
    "    self.rollno=rollno\n",
    "    self.marks=marks\n",
    "  def __str__(self):\n",
    "    return f\"Name:{self.name},Rollno:{self.rollno},Marks:{self.marks}\"\n",
    "\n",
    "class branch:\n",
    "  def __init__(self,name,student):\n",
    "    self.name=name\n",
    "    self.student=student\n",
    "  def __str__(self):\n",
    "    return f\"Branch Name:{self.name},Student:{self.student}\"\n",
    "\n",
    "class year:\n",
    "  def __init__(self,year_n,branch):\n",
    "    self.year_n=year_n\n",
    "    self.branch=branch\n",
    "  def __str__(self):\n",
    "    return f\"Year:{self.year_n},branch:{self.branch}\"\n",
    "\n",
    "class final:\n",
    "  def __init__(self,year_n):\n",
    "    self.year_n=year_n\n",
    "  def __str__(self):\n",
    "    return f\"Year:{self.year_n}\"\n",
    "\n",
    "marks1=marks(80,90)\n",
    "marks2=marks(50,100)\n",
    "student1=student(\"Deven\",\"21110053\",marks1)\n",
    "student2=student(\"Yash\",\"21110244\",marks2)\n",
    "branch1=branch(\"Computer Science\",student1)\n",
    "branch2=branch(\"Electrical Engineering\",student2)\n",
    "year1=year(2021,branch1)\n",
    "year2=year(2022,branch2)\n",
    "final=final([year1,year2])\n",
    "print(final)\n",
    "print(year1)\n",
    "print(branch1)\n",
    "print(student1)"
   ]
  },
  {
   "cell_type": "markdown",
   "metadata": {
    "id": "BXtrVRtGiCS5"
   },
   "source": [
    "In the above format we could store data in form of classes"
   ]
  },
  {
   "cell_type": "markdown",
   "metadata": {
    "id": "Zl8iugAkslBw"
   },
   "source": [
    "Q9"
   ]
  },
  {
   "cell_type": "code",
   "execution_count": 43,
   "metadata": {
    "colab": {
     "base_uri": "https://localhost:8080/",
     "height": 893
    },
    "id": "hyku87yVYcz6",
    "outputId": "97323a6f-65c1-4e89-81db-4d0d9f742976"
   },
   "outputs": [
    {
     "data": {
      "text/plain": [
       "Text(0.5, 1.0, 'Plot of $e^x$')"
      ]
     },
     "execution_count": 43,
     "metadata": {},
     "output_type": "execute_result"
    },
    {
     "data": {
      "image/png": "[encoded data removed]",
      "text/plain": [
       "<Figure size 1500x1000 with 7 Axes>"
      ]
     },
     "metadata": {},
     "output_type": "display_data"
    }
   ],
   "source": [
    "import matplotlib.pyplot as plt\n",
    "import numpy as np\n",
    "x=np.arange(0.5,100.4,0.5)\n",
    "plt.figure(figsize=(15, 10))\n",
    "plt.subplot(2, 4, 1)\n",
    "plt.plot(x,x)\n",
    "plt.xlabel('x')\n",
    "plt.title('Plot of x')\n",
    "\n",
    "plt.subplot(2, 4, 2)\n",
    "plt.plot(x,x*x)\n",
    "plt.xlabel('x')\n",
    "plt.title('Plot of $x^2$')\n",
    "\n",
    "plt.subplot(2,4,3)\n",
    "plt.plot(x,(x**3)/100)\n",
    "plt.xlabel('x')\n",
    "plt.title('Plot of $x^3/100$')\n",
    "\n",
    "plt.subplot(2,4,4)\n",
    "plt.plot(x,np.sin(x))\n",
    "plt.xlabel('x')\n",
    "plt.title('Plot of sin(x)')\n",
    "\n",
    "plt.subplot(2,4,5)\n",
    "plt.plot(x,np.sin(x)/x)\n",
    "plt.xlabel('x')\n",
    "plt.title('Plot of sin(x)/x')\n",
    "\n",
    "plt.subplot(2,4,6)\n",
    "plt.plot(x,np.log(x))\n",
    "plt.xlabel('x')\n",
    "plt.title('Plot of log(x)')\n",
    "\n",
    "plt.subplot(2,4,7)\n",
    "plt.plot(x,np.exp(x))\n",
    "plt.xlabel('x')\n",
    "plt.title('Plot of $e^x$')"
   ]
  },
  {
   "cell_type": "markdown",
   "metadata": {
    "id": "x6x0T0KK9pMs"
   },
   "source": [
    "Q10."
   ]
  },
  {
   "cell_type": "code",
   "execution_count": 44,
   "metadata": {
    "colab": {
     "base_uri": "https://localhost:8080/"
    },
    "id": "aJs4md2hx5KY",
    "outputId": "f1035ac1-22ba-4671-8d06-992e72a37f35"
   },
   "outputs": [
    {
     "name": "stdout",
     "output_type": "stream",
     "text": [
      "           a         b         c         d         e\n",
      "0   1.169926  1.065853  1.869935  1.119202  1.815638\n",
      "1   1.219602  1.213080  1.364226  1.443796  1.283487\n",
      "2   1.412360  1.525058  1.417650  1.720683  1.177436\n",
      "3   1.337044  1.861427  1.781778  1.753905  1.722031\n",
      "4   1.546914  1.871028  1.875895  1.187437  1.211151\n",
      "5   1.892007  1.161548  1.191574  1.384674  1.612284\n",
      "6   1.420453  1.997448  1.890233  1.126032  1.033640\n",
      "7   1.177936  1.885154  1.231553  1.680474  1.798868\n",
      "8   1.567220  1.913870  1.115018  1.823425  1.913305\n",
      "9   1.024409  1.297364  1.933496  1.376710  1.854643\n",
      "10  1.154230  1.831933  1.733717  1.730419  1.602467\n",
      "11  1.095275  1.240245  1.603933  1.943445  1.678284\n",
      "12  1.697212  1.496590  1.661452  1.011431  1.936263\n",
      "13  1.628396  1.660996  1.334144  1.187910  1.986020\n",
      "14  1.427744  1.305756  1.385566  1.584098  1.297723\n",
      "15  1.784588  1.914000  1.044325  1.425312  1.107492\n",
      "16  1.484167  1.918318  1.253422  1.260495  1.654672\n",
      "17  1.639045  1.021887  1.949305  1.744660  1.650880\n",
      "18  1.541992  1.690277  1.420951  1.834273  1.801202\n",
      "19  1.766795  1.914673  1.574984  1.618713  1.560079\n",
      "a    0.249698\n",
      "b    0.334609\n",
      "c    0.293132\n",
      "d    0.281538\n",
      "e    0.295585\n",
      "dtype: float64\n",
      "Column with highest standard deviation:  b\n",
      "a    1.449366\n",
      "b    1.589325\n",
      "c    1.531658\n",
      "d    1.497855\n",
      "e    1.584878\n",
      "dtype: float64\n",
      "Column with lowest mean:  a\n"
     ]
    }
   ],
   "source": [
    "import numpy as np\n",
    "import pandas as pd\n",
    "mat=np.random.uniform(1,2,(20,5))\n",
    "df=pd.DataFrame(mat, columns=['a','b','c','d','e'])\n",
    "print(df)\n",
    "#standard deviation\n",
    "std=df.std()\n",
    "maxsd=0\n",
    "id=0\n",
    "print(std)#printing std for all columns\n",
    "for i in range(len(std)):\n",
    "  if(maxsd>std[i]):\n",
    "    maxsd=maxsd\n",
    "  else:\n",
    "    maxsd=std[i]\n",
    "    id=i\n",
    "\n",
    "output={0:\"a\",1:\"b\",2:\"c\",3:\"d\",4:\"e\"}#to map index with the column names\n",
    "print('Column with highest standard deviation: ',output[id])\n",
    "#lowest mean\n",
    "mean=df.mean()\n",
    "print(mean)#printing means for all columns\n",
    "lmean=5\n",
    "id1=0\n",
    "for i in range(len(mean)):\n",
    "  if(mean[i]<lmean):\n",
    "    lmean=mean[i]\n",
    "    id1=i\n",
    "print('Column with lowest mean: ',output[id1])"
   ]
  },
  {
   "cell_type": "markdown",
   "metadata": {
    "id": "tmi24ksTEC05"
   },
   "source": [
    "Q11."
   ]
  },
  {
   "cell_type": "code",
   "execution_count": 45,
   "metadata": {
    "id": "oAZKm-uZDgZf"
   },
   "outputs": [],
   "source": [
    "df['f']=df.sum(axis=1)#adding across a row\n"
   ]
  },
  {
   "cell_type": "code",
   "execution_count": 46,
   "metadata": {
    "colab": {
     "base_uri": "https://localhost:8080/",
     "height": 677
    },
    "id": "5ilwmN-HQYjZ",
    "outputId": "ff055f6d-0d42-4cf6-aee7-cec06fa1a22c"
   },
   "outputs": [
    {
     "data": {
      "text/html": [
       "\n",
       "  <div id=\"df-392c8a23-f042-4d3f-b3ff-7ce224f2e7c9\" class=\"colab-df-container\">\n",
       "    <div>\n",
       "<style scoped>\n",
       "    .dataframe tbody tr th:only-of-type {\n",
       "        vertical-align: middle;\n",
       "    }\n",
       "\n",
       "    .dataframe tbody tr th {\n",
       "        vertical-align: top;\n",
       "    }\n",
       "\n",
       "    .dataframe thead th {\n",
       "        text-align: right;\n",
       "    }\n",
       "</style>\n",
       "<table border=\"1\" class=\"dataframe\">\n",
       "  <thead>\n",
       "    <tr style=\"text-align: right;\">\n",
       "      <th></th>\n",
       "      <th>a</th>\n",
       "      <th>b</th>\n",
       "      <th>c</th>\n",
       "      <th>d</th>\n",
       "      <th>e</th>\n",
       "      <th>f</th>\n",
       "    </tr>\n",
       "  </thead>\n",
       "  <tbody>\n",
       "    <tr>\n",
       "      <th>0</th>\n",
       "      <td>1.169926</td>\n",
       "      <td>1.065853</td>\n",
       "      <td>1.869935</td>\n",
       "      <td>1.119202</td>\n",
       "      <td>1.815638</td>\n",
       "      <td>7.040554</td>\n",
       "    </tr>\n",
       "    <tr>\n",
       "      <th>1</th>\n",
       "      <td>1.219602</td>\n",
       "      <td>1.213080</td>\n",
       "      <td>1.364226</td>\n",
       "      <td>1.443796</td>\n",
       "      <td>1.283487</td>\n",
       "      <td>6.524190</td>\n",
       "    </tr>\n",
       "    <tr>\n",
       "      <th>2</th>\n",
       "      <td>1.412360</td>\n",
       "      <td>1.525058</td>\n",
       "      <td>1.417650</td>\n",
       "      <td>1.720683</td>\n",
       "      <td>1.177436</td>\n",
       "      <td>7.253187</td>\n",
       "    </tr>\n",
       "    <tr>\n",
       "      <th>3</th>\n",
       "      <td>1.337044</td>\n",
       "      <td>1.861427</td>\n",
       "      <td>1.781778</td>\n",
       "      <td>1.753905</td>\n",
       "      <td>1.722031</td>\n",
       "      <td>8.456185</td>\n",
       "    </tr>\n",
       "    <tr>\n",
       "      <th>4</th>\n",
       "      <td>1.546914</td>\n",
       "      <td>1.871028</td>\n",
       "      <td>1.875895</td>\n",
       "      <td>1.187437</td>\n",
       "      <td>1.211151</td>\n",
       "      <td>7.692426</td>\n",
       "    </tr>\n",
       "    <tr>\n",
       "      <th>5</th>\n",
       "      <td>1.892007</td>\n",
       "      <td>1.161548</td>\n",
       "      <td>1.191574</td>\n",
       "      <td>1.384674</td>\n",
       "      <td>1.612284</td>\n",
       "      <td>7.242087</td>\n",
       "    </tr>\n",
       "    <tr>\n",
       "      <th>6</th>\n",
       "      <td>1.420453</td>\n",
       "      <td>1.997448</td>\n",
       "      <td>1.890233</td>\n",
       "      <td>1.126032</td>\n",
       "      <td>1.033640</td>\n",
       "      <td>7.467805</td>\n",
       "    </tr>\n",
       "    <tr>\n",
       "      <th>7</th>\n",
       "      <td>1.177936</td>\n",
       "      <td>1.885154</td>\n",
       "      <td>1.231553</td>\n",
       "      <td>1.680474</td>\n",
       "      <td>1.798868</td>\n",
       "      <td>7.773985</td>\n",
       "    </tr>\n",
       "    <tr>\n",
       "      <th>8</th>\n",
       "      <td>1.567220</td>\n",
       "      <td>1.913870</td>\n",
       "      <td>1.115018</td>\n",
       "      <td>1.823425</td>\n",
       "      <td>1.913305</td>\n",
       "      <td>8.332838</td>\n",
       "    </tr>\n",
       "    <tr>\n",
       "      <th>9</th>\n",
       "      <td>1.024409</td>\n",
       "      <td>1.297364</td>\n",
       "      <td>1.933496</td>\n",
       "      <td>1.376710</td>\n",
       "      <td>1.854643</td>\n",
       "      <td>7.486622</td>\n",
       "    </tr>\n",
       "    <tr>\n",
       "      <th>10</th>\n",
       "      <td>1.154230</td>\n",
       "      <td>1.831933</td>\n",
       "      <td>1.733717</td>\n",
       "      <td>1.730419</td>\n",
       "      <td>1.602467</td>\n",
       "      <td>8.052765</td>\n",
       "    </tr>\n",
       "    <tr>\n",
       "      <th>11</th>\n",
       "      <td>1.095275</td>\n",
       "      <td>1.240245</td>\n",
       "      <td>1.603933</td>\n",
       "      <td>1.943445</td>\n",
       "      <td>1.678284</td>\n",
       "      <td>7.561182</td>\n",
       "    </tr>\n",
       "    <tr>\n",
       "      <th>12</th>\n",
       "      <td>1.697212</td>\n",
       "      <td>1.496590</td>\n",
       "      <td>1.661452</td>\n",
       "      <td>1.011431</td>\n",
       "      <td>1.936263</td>\n",
       "      <td>7.802948</td>\n",
       "    </tr>\n",
       "    <tr>\n",
       "      <th>13</th>\n",
       "      <td>1.628396</td>\n",
       "      <td>1.660996</td>\n",
       "      <td>1.334144</td>\n",
       "      <td>1.187910</td>\n",
       "      <td>1.986020</td>\n",
       "      <td>7.797467</td>\n",
       "    </tr>\n",
       "    <tr>\n",
       "      <th>14</th>\n",
       "      <td>1.427744</td>\n",
       "      <td>1.305756</td>\n",
       "      <td>1.385566</td>\n",
       "      <td>1.584098</td>\n",
       "      <td>1.297723</td>\n",
       "      <td>7.000888</td>\n",
       "    </tr>\n",
       "    <tr>\n",
       "      <th>15</th>\n",
       "      <td>1.784588</td>\n",
       "      <td>1.914000</td>\n",
       "      <td>1.044325</td>\n",
       "      <td>1.425312</td>\n",
       "      <td>1.107492</td>\n",
       "      <td>7.275717</td>\n",
       "    </tr>\n",
       "    <tr>\n",
       "      <th>16</th>\n",
       "      <td>1.484167</td>\n",
       "      <td>1.918318</td>\n",
       "      <td>1.253422</td>\n",
       "      <td>1.260495</td>\n",
       "      <td>1.654672</td>\n",
       "      <td>7.571074</td>\n",
       "    </tr>\n",
       "    <tr>\n",
       "      <th>17</th>\n",
       "      <td>1.639045</td>\n",
       "      <td>1.021887</td>\n",
       "      <td>1.949305</td>\n",
       "      <td>1.744660</td>\n",
       "      <td>1.650880</td>\n",
       "      <td>8.005777</td>\n",
       "    </tr>\n",
       "    <tr>\n",
       "      <th>18</th>\n",
       "      <td>1.541992</td>\n",
       "      <td>1.690277</td>\n",
       "      <td>1.420951</td>\n",
       "      <td>1.834273</td>\n",
       "      <td>1.801202</td>\n",
       "      <td>8.288695</td>\n",
       "    </tr>\n",
       "    <tr>\n",
       "      <th>19</th>\n",
       "      <td>1.766795</td>\n",
       "      <td>1.914673</td>\n",
       "      <td>1.574984</td>\n",
       "      <td>1.618713</td>\n",
       "      <td>1.560079</td>\n",
       "      <td>8.435243</td>\n",
       "    </tr>\n",
       "  </tbody>\n",
       "</table>\n",
       "</div>\n",
       "    <div class=\"colab-df-buttons\">\n",
       "\n",
       "  <div class=\"colab-df-container\">\n",
       "    <button class=\"colab-df-convert\" onclick=\"convertToInteractive('df-392c8a23-f042-4d3f-b3ff-7ce224f2e7c9')\"\n",
       "            title=\"Convert this dataframe to an interactive table.\"\n",
       "            style=\"display:none;\">\n",
       "\n",
       "  <svg xmlns=\"http://www.w3.org/2000/svg\" height=\"24px\" viewBox=\"0 -960 960 960\">\n",
       "    <path d=\"M120-120v-720h720v720H120Zm60-500h600v-160H180v160Zm220 220h160v-160H400v160Zm0 220h160v-160H400v160ZM180-400h160v-160H180v160Zm440 0h160v-160H620v160ZM180-180h160v-160H180v160Zm440 0h160v-160H620v160Z\"/>\n",
       "  </svg>\n",
       "    </button>\n",
       "\n",
       "  <style>\n",
       "    .colab-df-container {\n",
       "      display:flex;\n",
       "      gap: 12px;\n",
       "    }\n",
       "\n",
       "    .colab-df-convert {\n",
       "      background-color: #E8F0FE;\n",
       "      border: none;\n",
       "      border-radius: 50%;\n",
       "      cursor: pointer;\n",
       "      display: none;\n",
       "      fill: #1967D2;\n",
       "      height: 32px;\n",
       "      padding: 0 0 0 0;\n",
       "      width: 32px;\n",
       "    }\n",
       "\n",
       "    .colab-df-convert:hover {\n",
       "      background-color: #E2EBFA;\n",
       "      box-shadow: 0px 1px 2px rgba(60, 64, 67, 0.3), 0px 1px 3px 1px rgba(60, 64, 67, 0.15);\n",
       "      fill: #174EA6;\n",
       "    }\n",
       "\n",
       "    .colab-df-buttons div {\n",
       "      margin-bottom: 4px;\n",
       "    }\n",
       "\n",
       "    [theme=dark] .colab-df-convert {\n",
       "      background-color: #3B4455;\n",
       "      fill: #D2E3FC;\n",
       "    }\n",
       "\n",
       "    [theme=dark] .colab-df-convert:hover {\n",
       "      background-color: #434B5C;\n",
       "      box-shadow: 0px 1px 3px 1px rgba(0, 0, 0, 0.15);\n",
       "      filter: drop-shadow(0px 1px 2px rgba(0, 0, 0, 0.3));\n",
       "      fill: #FFFFFF;\n",
       "    }\n",
       "  </style>\n",
       "\n",
       "    <script>\n",
       "      const buttonEl =\n",
       "        document.querySelector('#df-392c8a23-f042-4d3f-b3ff-7ce224f2e7c9 button.colab-df-convert');\n",
       "      buttonEl.style.display =\n",
       "        google.colab.kernel.accessAllowed ? 'block' : 'none';\n",
       "\n",
       "      async function convertToInteractive(key) {\n",
       "        const element = document.querySelector('#df-392c8a23-f042-4d3f-b3ff-7ce224f2e7c9');\n",
       "        const dataTable =\n",
       "          await google.colab.kernel.invokeFunction('convertToInteractive',\n",
       "                                                    [key], {});\n",
       "        if (!dataTable) return;\n",
       "\n",
       "        const docLinkHtml = 'Like what you see? Visit the ' +\n",
       "          '<a target=\"_blank\" href=https://colab.research.google.com/notebooks/data_table.ipynb>data table notebook</a>'\n",
       "          + ' to learn more about interactive tables.';\n",
       "        element.innerHTML = '';\n",
       "        dataTable['output_type'] = 'display_data';\n",
       "        await google.colab.output.renderOutput(dataTable, element);\n",
       "        const docLink = document.createElement('div');\n",
       "        docLink.innerHTML = docLinkHtml;\n",
       "        element.appendChild(docLink);\n",
       "      }\n",
       "    </script>\n",
       "  </div>\n",
       "\n",
       "\n",
       "<div id=\"df-434a09a2-dd94-4ff6-b8aa-5607da4a119f\">\n",
       "  <button class=\"colab-df-quickchart\" onclick=\"quickchart('df-434a09a2-dd94-4ff6-b8aa-5607da4a119f')\"\n",
       "            title=\"Suggest charts\"\n",
       "            style=\"display:none;\">\n",
       "\n",
       "<svg xmlns=\"http://www.w3.org/2000/svg\" height=\"24px\"viewBox=\"0 0 24 24\"\n",
       "     width=\"24px\">\n",
       "    <g>\n",
       "        <path d=\"M19 3H5c-1.1 0-2 .9-2 2v14c0 1.1.9 2 2 2h14c1.1 0 2-.9 2-2V5c0-1.1-.9-2-2-2zM9 17H7v-7h2v7zm4 0h-2V7h2v10zm4 0h-2v-4h2v4z\"/>\n",
       "    </g>\n",
       "</svg>\n",
       "  </button>\n",
       "\n",
       "<style>\n",
       "  .colab-df-quickchart {\n",
       "      --bg-color: #E8F0FE;\n",
       "      --fill-color: #1967D2;\n",
       "      --hover-bg-color: #E2EBFA;\n",
       "      --hover-fill-color: #174EA6;\n",
       "      --disabled-fill-color: #AAA;\n",
       "      --disabled-bg-color: #DDD;\n",
       "  }\n",
       "\n",
       "  [theme=dark] .colab-df-quickchart {\n",
       "      --bg-color: #3B4455;\n",
       "      --fill-color: #D2E3FC;\n",
       "      --hover-bg-color: #434B5C;\n",
       "      --hover-fill-color: #FFFFFF;\n",
       "      --disabled-bg-color: #3B4455;\n",
       "      --disabled-fill-color: #666;\n",
       "  }\n",
       "\n",
       "  .colab-df-quickchart {\n",
       "    background-color: var(--bg-color);\n",
       "    border: none;\n",
       "    border-radius: 50%;\n",
       "    cursor: pointer;\n",
       "    display: none;\n",
       "    fill: var(--fill-color);\n",
       "    height: 32px;\n",
       "    padding: 0;\n",
       "    width: 32px;\n",
       "  }\n",
       "\n",
       "  .colab-df-quickchart:hover {\n",
       "    background-color: var(--hover-bg-color);\n",
       "    box-shadow: 0 1px 2px rgba(60, 64, 67, 0.3), 0 1px 3px 1px rgba(60, 64, 67, 0.15);\n",
       "    fill: var(--button-hover-fill-color);\n",
       "  }\n",
       "\n",
       "  .colab-df-quickchart-complete:disabled,\n",
       "  .colab-df-quickchart-complete:disabled:hover {\n",
       "    background-color: var(--disabled-bg-color);\n",
       "    fill: var(--disabled-fill-color);\n",
       "    box-shadow: none;\n",
       "  }\n",
       "\n",
       "  .colab-df-spinner {\n",
       "    border: 2px solid var(--fill-color);\n",
       "    border-color: transparent;\n",
       "    border-bottom-color: var(--fill-color);\n",
       "    animation:\n",
       "      spin 1s steps(1) infinite;\n",
       "  }\n",
       "\n",
       "  @keyframes spin {\n",
       "    0% {\n",
       "      border-color: transparent;\n",
       "      border-bottom-color: var(--fill-color);\n",
       "      border-left-color: var(--fill-color);\n",
       "    }\n",
       "    20% {\n",
       "      border-color: transparent;\n",
       "      border-left-color: var(--fill-color);\n",
       "      border-top-color: var(--fill-color);\n",
       "    }\n",
       "    30% {\n",
       "      border-color: transparent;\n",
       "      border-left-color: var(--fill-color);\n",
       "      border-top-color: var(--fill-color);\n",
       "      border-right-color: var(--fill-color);\n",
       "    }\n",
       "    40% {\n",
       "      border-color: transparent;\n",
       "      border-right-color: var(--fill-color);\n",
       "      border-top-color: var(--fill-color);\n",
       "    }\n",
       "    60% {\n",
       "      border-color: transparent;\n",
       "      border-right-color: var(--fill-color);\n",
       "    }\n",
       "    80% {\n",
       "      border-color: transparent;\n",
       "      border-right-color: var(--fill-color);\n",
       "      border-bottom-color: var(--fill-color);\n",
       "    }\n",
       "    90% {\n",
       "      border-color: transparent;\n",
       "      border-bottom-color: var(--fill-color);\n",
       "    }\n",
       "  }\n",
       "</style>\n",
       "\n",
       "  <script>\n",
       "    async function quickchart(key) {\n",
       "      const quickchartButtonEl =\n",
       "        document.querySelector('#' + key + ' button');\n",
       "      quickchartButtonEl.disabled = true;  // To prevent multiple clicks.\n",
       "      quickchartButtonEl.classList.add('colab-df-spinner');\n",
       "      try {\n",
       "        const charts = await google.colab.kernel.invokeFunction(\n",
       "            'suggestCharts', [key], {});\n",
       "      } catch (error) {\n",
       "        console.error('Error during call to suggestCharts:', error);\n",
       "      }\n",
       "      quickchartButtonEl.classList.remove('colab-df-spinner');\n",
       "      quickchartButtonEl.classList.add('colab-df-quickchart-complete');\n",
       "    }\n",
       "    (() => {\n",
       "      let quickchartButtonEl =\n",
       "        document.querySelector('#df-434a09a2-dd94-4ff6-b8aa-5607da4a119f button');\n",
       "      quickchartButtonEl.style.display =\n",
       "        google.colab.kernel.accessAllowed ? 'block' : 'none';\n",
       "    })();\n",
       "  </script>\n",
       "</div>\n",
       "    </div>\n",
       "  </div>\n"
      ],
      "text/plain": [
       "           a         b         c         d         e         f\n",
       "0   1.169926  1.065853  1.869935  1.119202  1.815638  7.040554\n",
       "1   1.219602  1.213080  1.364226  1.443796  1.283487  6.524190\n",
       "2   1.412360  1.525058  1.417650  1.720683  1.177436  7.253187\n",
       "3   1.337044  1.861427  1.781778  1.753905  1.722031  8.456185\n",
       "4   1.546914  1.871028  1.875895  1.187437  1.211151  7.692426\n",
       "5   1.892007  1.161548  1.191574  1.384674  1.612284  7.242087\n",
       "6   1.420453  1.997448  1.890233  1.126032  1.033640  7.467805\n",
       "7   1.177936  1.885154  1.231553  1.680474  1.798868  7.773985\n",
       "8   1.567220  1.913870  1.115018  1.823425  1.913305  8.332838\n",
       "9   1.024409  1.297364  1.933496  1.376710  1.854643  7.486622\n",
       "10  1.154230  1.831933  1.733717  1.730419  1.602467  8.052765\n",
       "11  1.095275  1.240245  1.603933  1.943445  1.678284  7.561182\n",
       "12  1.697212  1.496590  1.661452  1.011431  1.936263  7.802948\n",
       "13  1.628396  1.660996  1.334144  1.187910  1.986020  7.797467\n",
       "14  1.427744  1.305756  1.385566  1.584098  1.297723  7.000888\n",
       "15  1.784588  1.914000  1.044325  1.425312  1.107492  7.275717\n",
       "16  1.484167  1.918318  1.253422  1.260495  1.654672  7.571074\n",
       "17  1.639045  1.021887  1.949305  1.744660  1.650880  8.005777\n",
       "18  1.541992  1.690277  1.420951  1.834273  1.801202  8.288695\n",
       "19  1.766795  1.914673  1.574984  1.618713  1.560079  8.435243"
      ]
     },
     "execution_count": 46,
     "metadata": {},
     "output_type": "execute_result"
    }
   ],
   "source": [
    "df#data frame visualisation after adding f row"
   ]
  },
  {
   "cell_type": "code",
   "execution_count": 47,
   "metadata": {
    "colab": {
     "base_uri": "https://localhost:8080/"
    },
    "id": "2-y9pZ7nFKBb",
    "outputId": "8914471b-09dc-4140-84f3-70364edb4d57"
   },
   "outputs": [
    {
     "name": "stdout",
     "output_type": "stream",
     "text": [
      "No. of rows corresponding to LT8:  14\n",
      "Standard Deviation for LT8:  0.36476337711438944\n",
      "Standard Deviation for GT8:  0.19124900293188438\n"
     ]
    },
    {
     "name": "stderr",
     "output_type": "stream",
     "text": [
      "<ipython-input-47-d9e4f5cf7c1f>:4: SettingWithCopyWarning: \n",
      "A value is trying to be set on a copy of a slice from a DataFrame\n",
      "\n",
      "See the caveats in the documentation: https://pandas.pydata.org/pandas-docs/stable/user_guide/indexing.html#returning-a-view-versus-a-copy\n",
      "  df['g'][i]='LT8'\n",
      "<ipython-input-47-d9e4f5cf7c1f>:12: FutureWarning: The default dtype for empty Series will be 'object' instead of 'float64' in a future version. Specify a dtype explicitly to silence this warning.\n",
      "  df1=pd.Series()\n",
      "<ipython-input-47-d9e4f5cf7c1f>:13: FutureWarning: The default dtype for empty Series will be 'object' instead of 'float64' in a future version. Specify a dtype explicitly to silence this warning.\n",
      "  df2=pd.Series()\n"
     ]
    }
   ],
   "source": [
    "df['g']=[0]*20\n",
    "for i in range(len(df['f'])):\n",
    "  if(df['f'][i]<8):\n",
    "    df['g'][i]='LT8'\n",
    "  else:\n",
    "    df['g'][i]='GT8'\n",
    "ctr=0\n",
    "for i in range(len(df['g'])):\n",
    "  if(df['g'][i]=='LT8'):\n",
    "    ctr=ctr+1\n",
    "print('No. of rows corresponding to LT8: ',ctr)\n",
    "df1=pd.Series()\n",
    "df2=pd.Series()\n",
    "\n",
    "for i in range(len(df['g'])):\n",
    "  if (df['g'][i]=='LT8'):\n",
    "    df1 = pd.concat([df1, pd.Series(df['f'][i])], ignore_index=True)\n",
    "  else:\n",
    "    df2 = pd.concat([df2, pd.Series(df['f'][i])], ignore_index=True)\n",
    "\n",
    "print(\"Standard Deviation for LT8: \",df1.std())\n",
    "print(\"Standard Deviation for GT8: \",df2.std())\n",
    "\n"
   ]
  },
  {
   "cell_type": "markdown",
   "metadata": {
    "id": "rPx-F-0_qQuN"
   },
   "source": [
    "Q12. Broadcasting in numpy eases the task of reshaping the array while operating with arrays for us. It allows for element wise operations between different number of arrays."
   ]
  },
  {
   "cell_type": "code",
   "execution_count": 48,
   "metadata": {
    "colab": {
     "base_uri": "https://localhost:8080/"
    },
    "id": "GmzgeOAzqQLj",
    "outputId": "7f6d3ac3-7c22-4c06-940d-065cc91cf85b"
   },
   "outputs": [
    {
     "name": "stdout",
     "output_type": "stream",
     "text": [
      "Answer due to broadcasting  [[2 4]\n",
      " [4 6]]\n"
     ]
    }
   ],
   "source": [
    "import numpy as np\n",
    "a=np.array([[1,2],[3,4]])\n",
    "b=np.array([1,2])\n",
    "c=a+b#adding arrays of different sizes\n",
    "print(\"Answer due to broadcasting \",c)\n",
    "\n"
   ]
  },
  {
   "cell_type": "markdown",
   "metadata": {
    "id": "zgdUNPAySBOL"
   },
   "source": [
    "Here we can see both the arrays have different sizes, still we do not get an error in computing c. This is because of broadcasting."
   ]
  },
  {
   "cell_type": "markdown",
   "metadata": {
    "id": "mVsM9GaESXwI"
   },
   "source": [
    "Q13."
   ]
  },
  {
   "cell_type": "code",
   "execution_count": 49,
   "metadata": {
    "colab": {
     "base_uri": "https://localhost:8080/"
    },
    "id": "UEakkg9jSVQI",
    "outputId": "263a4ca9-f47e-4f9f-ecc8-1a4a9e7bf27c"
   },
   "outputs": [
    {
     "name": "stdout",
     "output_type": "stream",
     "text": [
      "True\n"
     ]
    }
   ],
   "source": [
    "def min_index(a):\n",
    "  ind=0\n",
    "  min=float('inf')\n",
    "  for i in range(len(a)):\n",
    "    if(a[i]<=min):\n",
    "      min=a[i]\n",
    "      ind=i\n",
    "  return ind\n",
    "\n",
    "arr=np.array([1,2,3,-9,-100])\n",
    "min_ind=min_index(arr)\n",
    "#verifying the result with argmin function\n",
    "print(min_ind==np.argmin(arr))\n",
    "\n"
   ]
  }
 ],
 "metadata": {
  "colab": {
   "provenance": []
  },
  "kernelspec": {
   "display_name": "Python 3 (ipykernel)",
   "language": "python",
   "name": "python3"
  },
  "language_info": {
   "codemirror_mode": {
    "name": "ipython",
    "version": 3
   },
   "file_extension": ".py",
   "mimetype": "text/x-python",
   "name": "python",
   "nbconvert_exporter": "python",
   "pygments_lexer": "ipython3",
   "version": "3.9.13"
  }
 },
 "nbformat": 4,
 "nbformat_minor": 1
}
